{
 "cells": [
  {
   "cell_type": "code",
   "execution_count": 45,
   "metadata": {},
   "outputs": [],
   "source": [
    "from pytrends.request import TrendReq\n",
    "\n",
    "\n",
    "import csv\n",
    "import pandas as pd\n",
    "import numpy\n",
    "import time\n",
    "import seaborn as sns"
   ]
  },
  {
   "cell_type": "code",
   "execution_count": 12,
   "metadata": {},
   "outputs": [
    {
     "name": "stdout",
     "output_type": "stream",
     "text": [
      "            International womens day  International Mens Day isPartial\n",
      "date                                                                  \n",
      "2013-03-17                         1                       0     False\n",
      "2013-03-24                         0                       0     False\n",
      "2013-03-31                         0                       0     False\n",
      "2013-04-07                         0                       0     False\n",
      "2013-04-14                         0                       0     False\n"
     ]
    }
   ],
   "source": [
    "\n",
    "# Create payload and capture API tokens. Only needed for interest_over_time(), interest_by_region() & related_queries()\n",
    "pytrend.build_payload(kw_list=['International womens day','International Mens Day'])\n",
    "\n",
    "# Interest Over Time\n",
    "interest_over_time_df = pytrend.interest_over_time()\n",
    "print(interest_over_time_df.head())\n"
   ]
  },
  {
   "cell_type": "code",
   "execution_count": 18,
   "metadata": {},
   "outputs": [
    {
     "data": {
      "text/plain": [
       "<bound method NDFrame.describe of             International womens day  International Mens Day isPartial\n",
       "date                                                                  \n",
       "2013-03-17                         1                       0     False\n",
       "2013-03-24                         0                       0     False\n",
       "2013-03-31                         0                       0     False\n",
       "2013-04-07                         0                       0     False\n",
       "2013-04-14                         0                       0     False\n",
       "2013-04-21                         0                       0     False\n",
       "2013-04-28                         0                       0     False\n",
       "2013-05-05                         0                       0     False\n",
       "2013-05-12                         0                       0     False\n",
       "2013-05-19                         0                       0     False\n",
       "2013-05-26                         0                       0     False\n",
       "2013-06-02                         0                       0     False\n",
       "2013-06-09                         0                       0     False\n",
       "2013-06-16                         0                       0     False\n",
       "2013-06-23                         0                       0     False\n",
       "2013-06-30                         0                       0     False\n",
       "2013-07-07                         0                       0     False\n",
       "2013-07-14                         0                       0     False\n",
       "2013-07-21                         0                       0     False\n",
       "2013-07-28                         0                       0     False\n",
       "2013-08-04                         0                       0     False\n",
       "2013-08-11                         0                       0     False\n",
       "2013-08-18                         0                       0     False\n",
       "2013-08-25                         0                       0     False\n",
       "2013-09-01                         0                       0     False\n",
       "2013-09-08                         0                       0     False\n",
       "2013-09-15                         0                       0     False\n",
       "2013-09-22                         0                       0     False\n",
       "2013-09-29                         0                       0     False\n",
       "2013-10-06                         0                       0     False\n",
       "...                              ...                     ...       ...\n",
       "2017-08-20                         0                       0     False\n",
       "2017-08-27                         0                       0     False\n",
       "2017-09-03                         0                       0     False\n",
       "2017-09-10                         0                       0     False\n",
       "2017-09-17                         0                       0     False\n",
       "2017-09-24                         0                       0     False\n",
       "2017-10-01                         0                       0     False\n",
       "2017-10-08                         1                       0     False\n",
       "2017-10-15                         0                       0     False\n",
       "2017-10-22                         1                       0     False\n",
       "2017-10-29                         0                       0     False\n",
       "2017-11-05                         0                       0     False\n",
       "2017-11-12                         0                       1     False\n",
       "2017-11-19                         1                       4     False\n",
       "2017-11-26                         1                       0     False\n",
       "2017-12-03                         1                       0     False\n",
       "2017-12-10                         1                       0     False\n",
       "2017-12-17                         0                       0     False\n",
       "2017-12-24                         0                       0     False\n",
       "2017-12-31                         1                       0     False\n",
       "2018-01-07                         1                       0     False\n",
       "2018-01-14                         1                       0     False\n",
       "2018-01-21                         1                       0     False\n",
       "2018-01-28                         2                       0     False\n",
       "2018-02-04                         3                       0     False\n",
       "2018-02-11                         4                       0     False\n",
       "2018-02-18                         4                       0     False\n",
       "2018-02-25                         8                       1     False\n",
       "2018-03-04                       100                      31     False\n",
       "2018-03-11                         9                       6      True\n",
       "\n",
       "[261 rows x 3 columns]>"
      ]
     },
     "execution_count": 18,
     "metadata": {},
     "output_type": "execute_result"
    }
   ],
   "source": [
    "interest_over_time_df.describe"
   ]
  },
  {
   "cell_type": "code",
   "execution_count": 40,
   "metadata": {
    "collapsed": true
   },
   "outputs": [],
   "source": [
    "def cleanup(df):\n",
    "    df['International_Womens_Day']=df['International_Womens_Day'].replace(\"<1\",\"0.5\")\n",
    "    df['International_Mens_Day']=df['International_Mens_Day'].replace(\"<1\",\"0.5\")\n",
    "    return(df)\n",
    "\n",
    "def convert_to_int(df,cols_to_convert):\n",
    "    for column in cols_to_convert:\n",
    "        df[column]=df[column].astype(float)\n",
    "    return(df)"
   ]
  },
  {
   "cell_type": "code",
   "execution_count": 34,
   "metadata": {
    "collapsed": true
   },
   "outputs": [],
   "source": [
    "searchResults=pd.read_csv('MenVsWomenDaySearches.csv')"
   ]
  },
  {
   "cell_type": "code",
   "execution_count": 35,
   "metadata": {},
   "outputs": [],
   "source": [
    "searchResults=cleanup(searchResults)"
   ]
  },
  {
   "cell_type": "code",
   "execution_count": 41,
   "metadata": {},
   "outputs": [],
   "source": [
    "\n",
    "cols_to_convert=['International_Womens_Day','International_Mens_Day']\n",
    "searchResults=convert_to_int(searchResults,cols_to_convert)"
   ]
  },
  {
   "cell_type": "code",
   "execution_count": 43,
   "metadata": {},
   "outputs": [],
   "source": [
    "\n",
    "searchResults = searchResults.melt('Month', var_name='Celebration_Day',  value_name='Relative_Number_Of_Results')\n"
   ]
  },
  {
   "cell_type": "code",
   "execution_count": 52,
   "metadata": {
    "collapsed": true
   },
   "outputs": [],
   "source": [
    "searchResults['Month']=pd.to_datetime(searchResults['Month'])"
   ]
  },
  {
   "cell_type": "code",
   "execution_count": 53,
   "metadata": {
    "collapsed": true
   },
   "outputs": [],
   "source": [
    "searchResults['Month_Year']=searchResults['Month'].apply(lambda x: x.strftime('%B-%Y'))"
   ]
  },
  {
   "cell_type": "code",
   "execution_count": 54,
   "metadata": {},
   "outputs": [
    {
     "data": {
      "text/html": [
       "<div>\n",
       "<style scoped>\n",
       "    .dataframe tbody tr th:only-of-type {\n",
       "        vertical-align: middle;\n",
       "    }\n",
       "\n",
       "    .dataframe tbody tr th {\n",
       "        vertical-align: top;\n",
       "    }\n",
       "\n",
       "    .dataframe thead th {\n",
       "        text-align: right;\n",
       "    }\n",
       "</style>\n",
       "<table border=\"1\" class=\"dataframe\">\n",
       "  <thead>\n",
       "    <tr style=\"text-align: right;\">\n",
       "      <th></th>\n",
       "      <th>Month</th>\n",
       "      <th>Celebration_Day</th>\n",
       "      <th>Relative_Number_Of_Results</th>\n",
       "      <th>Month_Year</th>\n",
       "    </tr>\n",
       "  </thead>\n",
       "  <tbody>\n",
       "    <tr>\n",
       "      <th>0</th>\n",
       "      <td>2004-01-01</td>\n",
       "      <td>International_Womens_Day</td>\n",
       "      <td>0.5</td>\n",
       "      <td>January-2004</td>\n",
       "    </tr>\n",
       "    <tr>\n",
       "      <th>1</th>\n",
       "      <td>2004-02-01</td>\n",
       "      <td>International_Womens_Day</td>\n",
       "      <td>1.0</td>\n",
       "      <td>February-2004</td>\n",
       "    </tr>\n",
       "    <tr>\n",
       "      <th>2</th>\n",
       "      <td>2004-03-01</td>\n",
       "      <td>International_Womens_Day</td>\n",
       "      <td>2.0</td>\n",
       "      <td>March-2004</td>\n",
       "    </tr>\n",
       "    <tr>\n",
       "      <th>3</th>\n",
       "      <td>2004-04-01</td>\n",
       "      <td>International_Womens_Day</td>\n",
       "      <td>0.0</td>\n",
       "      <td>April-2004</td>\n",
       "    </tr>\n",
       "    <tr>\n",
       "      <th>4</th>\n",
       "      <td>2004-05-01</td>\n",
       "      <td>International_Womens_Day</td>\n",
       "      <td>0.0</td>\n",
       "      <td>May-2004</td>\n",
       "    </tr>\n",
       "  </tbody>\n",
       "</table>\n",
       "</div>"
      ],
      "text/plain": [
       "       Month           Celebration_Day  Relative_Number_Of_Results  \\\n",
       "0 2004-01-01  International_Womens_Day                         0.5   \n",
       "1 2004-02-01  International_Womens_Day                         1.0   \n",
       "2 2004-03-01  International_Womens_Day                         2.0   \n",
       "3 2004-04-01  International_Womens_Day                         0.0   \n",
       "4 2004-05-01  International_Womens_Day                         0.0   \n",
       "\n",
       "      Month_Year  \n",
       "0   January-2004  \n",
       "1  February-2004  \n",
       "2     March-2004  \n",
       "3     April-2004  \n",
       "4       May-2004  "
      ]
     },
     "execution_count": 54,
     "metadata": {},
     "output_type": "execute_result"
    }
   ],
   "source": [
    "searchResults.head()"
   ]
  },
  {
   "cell_type": "code",
   "execution_count": 51,
   "metadata": {},
   "outputs": [
    {
     "ename": "NameError",
     "evalue": "name 'datetime' is not defined",
     "output_type": "error",
     "traceback": [
      "\u001b[1;31m---------------------------------------------------------------------------\u001b[0m",
      "\u001b[1;31mNameError\u001b[0m                                 Traceback (most recent call last)",
      "\u001b[1;32m<ipython-input-51-5827304b59eb>\u001b[0m in \u001b[0;36m<module>\u001b[1;34m()\u001b[0m\n\u001b[1;32m----> 1\u001b[1;33m \u001b[0msearchResults\u001b[0m\u001b[1;33m[\u001b[0m\u001b[1;34m'Mpnth'\u001b[0m\u001b[1;33m]\u001b[0m\u001b[1;33m=\u001b[0m\u001b[0msearchResults\u001b[0m\u001b[1;33m[\u001b[0m\u001b[1;34m'Month'\u001b[0m\u001b[1;33m]\u001b[0m\u001b[1;33m.\u001b[0m\u001b[0mastype\u001b[0m\u001b[1;33m(\u001b[0m\u001b[0mdatetime\u001b[0m\u001b[1;33m)\u001b[0m\u001b[1;33m\u001b[0m\u001b[0m\n\u001b[0m\u001b[0;32m      2\u001b[0m \u001b[0msearchResults\u001b[0m\u001b[1;33m.\u001b[0m\u001b[0mhead\u001b[0m\u001b[1;33m(\u001b[0m\u001b[1;33m)\u001b[0m\u001b[1;33m\u001b[0m\u001b[0m\n\u001b[0;32m      3\u001b[0m \u001b[1;33m\u001b[0m\u001b[0m\n\u001b[0;32m      4\u001b[0m sns.tsplot(data=searchResults, time=\"Month\",\n\u001b[0;32m      5\u001b[0m            condition=\"Celebration_Day\", value=\"Relative_Number_Of_Results\")\n",
      "\u001b[1;31mNameError\u001b[0m: name 'datetime' is not defined"
     ]
    }
   ],
   "source": [
    "#df['date_column'] = pd.to_datetime(df['date_column'])\n",
    "\n",
    "\n",
    "searchResults.head()\n",
    "\n",
    "sns.tsplot(data=searchResults, time=\"Month\",\n",
    "           condition=\"Celebration_Day\", value=\"Relative_Number_Of_Results\")"
   ]
  },
  {
   "cell_type": "code",
   "execution_count": null,
   "metadata": {
    "collapsed": true
   },
   "outputs": [],
   "source": [
    "#TODO\n",
    "#pytrends"
   ]
  }
 ],
 "metadata": {
  "kernelspec": {
   "display_name": "Python 3",
   "language": "python",
   "name": "python3"
  },
  "language_info": {
   "codemirror_mode": {
    "name": "ipython",
    "version": 3
   },
   "file_extension": ".py",
   "mimetype": "text/x-python",
   "name": "python",
   "nbconvert_exporter": "python",
   "pygments_lexer": "ipython3",
   "version": "3.6.1"
  }
 },
 "nbformat": 4,
 "nbformat_minor": 2
}
